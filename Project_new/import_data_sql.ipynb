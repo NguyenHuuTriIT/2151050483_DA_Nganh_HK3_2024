{
 "cells": [
  {
   "cell_type": "code",
   "execution_count": 1,
   "metadata": {
    "ExecuteTime": {
     "end_time": "2024-10-03T13:48:16.090040900Z",
     "start_time": "2024-10-03T13:48:12.904104900Z"
    }
   },
   "outputs": [
    {
     "name": "stderr",
     "output_type": "stream",
     "text": [
      "<>:7: SyntaxWarning: invalid escape sequence '\\M'\n",
      "<>:7: SyntaxWarning: invalid escape sequence '\\M'\n",
      "C:\\Users\\ACER USER\\AppData\\Local\\Temp\\ipykernel_8820\\1534896747.py:7: SyntaxWarning: invalid escape sequence '\\M'\n",
      "  \"SERVER=LAPTOP-IBQB3FPP\\MSSQLSERVER01;\"\n"
     ]
    },
    {
     "name": "stdout",
     "output_type": "stream",
     "text": [
      "Dữ liệu đã được đổ vào SQL Server thành công!\n"
     ]
    }
   ],
   "source": [
    "import pandas as pd\n",
    "import pyodbc\n",
    "\n",
    "# Kết nối đến SQL Server với Windows Authentication\n",
    "connection_string = (\n",
    "    \"DRIVER={SQL Server};\"\n",
    "    \"SERVER=LAPTOP-IBQB3FPP\\MSSQLSERVER01;\"\n",
    "    \"DATABASE=DataWarehouse1;\"\n",
    "    \"Trusted_Connection=yes;\"  # Sử dụng Windows Authentication\n",
    ")\n",
    "\n",
    "\n",
    "\n",
    "# Tạo kết nối\n",
    "conn = pyodbc.connect(connection_string)\n",
    "cursor = conn.cursor()\n",
    "\n",
    "# Đọc dữ liệu từ các file CSV\n",
    "teams_df = pd.read_csv('data_clean/teams.csv')\n",
    "seasons_df = pd.read_csv('data_clean/seasons.csv')\n",
    "df_matches = pd.read_csv('data_clean/matches.csv')\n",
    "team_stats_df = pd.read_csv('data_clean/team_stats.csv')\n",
    "\n",
    "# Tạo bảng Teams\n",
    "cursor.execute(\"\"\"\n",
    "IF NOT EXISTS (SELECT * FROM sys.objects WHERE object_id = OBJECT_ID(N'dbo.Teams') AND type in (N'U'))\n",
    "BEGIN\n",
    "    CREATE TABLE Teams (\n",
    "        TeamID INT PRIMARY KEY,\n",
    "        TeamName NVARCHAR(100) NOT NULL\n",
    "    );\n",
    "END\n",
    "\"\"\")\n",
    "\n",
    "# Tạo bảng Seasons\n",
    "cursor.execute(\"\"\"\n",
    "IF NOT EXISTS (SELECT * FROM sys.objects WHERE object_id = OBJECT_ID(N'dbo.Seasons') AND type in (N'U'))\n",
    "BEGIN\n",
    "    CREATE TABLE Seasons (\n",
    "        SeasonID INT PRIMARY KEY,\n",
    "        Year NVARCHAR(10) NOT NULL\n",
    "    );\n",
    "END\n",
    "\"\"\")\n",
    "\n",
    "# Tạo bảng TeamStats\n",
    "cursor.execute(\"\"\"\n",
    "IF NOT EXISTS (SELECT * FROM sys.objects WHERE object_id = OBJECT_ID(N'dbo.TeamStats') AND type in (N'U'))\n",
    "BEGIN\n",
    "    CREATE TABLE TeamStats (\n",
    "        SeasonID INT,\n",
    "        TeamID INT,\n",
    "        Played INT,\n",
    "        Won INT,\n",
    "        Draw INT,\n",
    "        Lost INT,\n",
    "        GF INT,\n",
    "        GA INT,\n",
    "        GoalDifference INT,\n",
    "        Points INT,\n",
    "        PPG FLOAT,\n",
    "        PercentPoints FLOAT,\n",
    "        FOREIGN KEY (SeasonID) REFERENCES Seasons(SeasonID),\n",
    "        FOREIGN KEY (TeamID) REFERENCES Teams(TeamID)\n",
    "    );\n",
    "END\n",
    "\"\"\")\n",
    "\n",
    "# Tạo bảng Matches\n",
    "cursor.execute(\"\"\"\n",
    "IF NOT EXISTS (SELECT * FROM sys.objects WHERE object_id = OBJECT_ID(N'dbo.Matches') AND type in (N'U'))\n",
    "BEGIN\n",
    "    CREATE TABLE Matches (\n",
    "        HomeTeamID INT,\n",
    "        AwayTeamID INT,\n",
    "        Date DATETIME,\n",
    "        HomeScore FLOAT,\n",
    "        AwayScore FLOAT,\n",
    "        ShotsHome INT,\n",
    "        ShotsAway INT,\n",
    "        ShotsOnGoalHome INT,\n",
    "        ShotsOnGoalAway INT,\n",
    "        PassesHome INT,\n",
    "        PassesAway INT,\n",
    "        AccuratePassesHome INT,\n",
    "        AccuratePassesAway INT,\n",
    "        FoulsHome INT,\n",
    "        FoulsAway INT,\n",
    "        YellowCardsHome INT,\n",
    "        YellowCardsAway INT,\n",
    "        PossessionTimeHome FLOAT,\n",
    "        PossessionTimeAway FLOAT,\n",
    "        RedCardsHome INT,\n",
    "        RedCardsAway INT,\n",
    "        Label INT,\n",
    "        FOREIGN KEY (HomeTeamID) REFERENCES Teams(TeamID),\n",
    "        FOREIGN KEY (AwayTeamID) REFERENCES Teams(TeamID)\n",
    "    );\n",
    "END\n",
    "\"\"\")\n",
    "\n",
    "# 1. Đẩy dữ liệu vào bảng Teams\n",
    "for index, row in teams_df.iterrows():\n",
    "    cursor.execute(\"\"\"\n",
    "        IF NOT EXISTS (SELECT * FROM Teams WHERE TeamID = ?)\n",
    "        BEGIN\n",
    "            INSERT INTO Teams (TeamID, TeamName)\n",
    "            VALUES (?, ?)\n",
    "        END\n",
    "    \"\"\", row['TeamID'], row['TeamID'], row['TeamName'])\n",
    "\n",
    "# 2. Đẩy dữ liệu vào bảng Seasons\n",
    "for index, row in seasons_df.iterrows():\n",
    "    cursor.execute(\"\"\"\n",
    "        IF NOT EXISTS (SELECT * FROM Seasons WHERE SeasonID = ?)\n",
    "        BEGIN\n",
    "            INSERT INTO Seasons (SeasonID, Year)\n",
    "            VALUES (?, ?)\n",
    "        END\n",
    "    \"\"\", row['SeasonID'], row['SeasonID'], row['Year'])\n",
    "\n",
    "# 3. Đẩy dữ liệu vào bảng TeamStats\n",
    "for index, row in team_stats_df.iterrows():\n",
    "    cursor.execute(\"\"\"\n",
    "        IF NOT EXISTS (SELECT * FROM TeamStats WHERE SeasonID = ? AND TeamID = ?)\n",
    "        BEGIN\n",
    "            INSERT INTO TeamStats (SeasonID, TeamID, Played, Won, Draw, Lost, GF, GA, GoalDifference, Points, PPG, PercentPoints)\n",
    "            VALUES (?, ?, ?, ?, ?, ?, ?, ?, ?, ?, ?, ?)\n",
    "        END\n",
    "    \"\"\", row['SeasonID'], row['TeamID'], row['SeasonID'], row['TeamID'], row['Played'], \n",
    "           row['Won'], row['Draw'], row['Lost'], row['GF'], row['GA'], \n",
    "           row['Goal Difference'], row['Points'], row['PPG'], row['% Points'])\n",
    "\n",
    "# 4. Đẩy dữ liệu vào bảng Matches\n",
    "for index, row in df_matches.iterrows():\n",
    "    cursor.execute(\"\"\"\n",
    "        IF NOT EXISTS (SELECT * FROM Matches WHERE HomeTeamID = ? AND AwayTeamID = ? AND Date = ?)\n",
    "        BEGIN\n",
    "            INSERT INTO Matches (HomeTeamID, AwayTeamID, Date, HomeScore, AwayScore, ShotsHome, ShotsAway, \n",
    "            ShotsOnGoalHome, ShotsOnGoalAway, PassesHome, PassesAway, AccuratePassesHome, AccuratePassesAway, \n",
    "            FoulsHome, FoulsAway, YellowCardsHome, YellowCardsAway, PossessionTimeHome, PossessionTimeAway, \n",
    "            RedCardsHome, RedCardsAway, Label)\n",
    "            VALUES (?, ?, ?, ?, ?, ?, ?, ?, ?, ?, ?, ?, ?, ?, ?, ?, ?, ?, ?, ?, ?, ?)\n",
    "        END\n",
    "    \"\"\", row['HomeTeamID'], row['AwayTeamID'], row['date'],\n",
    "           row['HomeTeamID'], row['AwayTeamID'], row['date'], \n",
    "           row['home_score'], row['away_score'], row['shots_home'], \n",
    "           row['shots_away'], row['shots_on_goal_home'], \n",
    "           row['shots_on_goal_away'], row['passes_home'], \n",
    "           row['passes_away'], row['accurate_passes_home'], \n",
    "           row['accurate_passes_away'], row['fouls_home'], \n",
    "           row['fouls_away'], row['yellow_cards_home'], \n",
    "           row['yellow_cards_away'], row['possession_time_home'], \n",
    "           row['possession_time_away'], row['red_cards_home'], \n",
    "           row['red_cards_away'], row['label'])\n",
    "\n",
    "# Commit các thay đổi\n",
    "conn.commit()\n",
    "\n",
    "# Đóng kết nối\n",
    "cursor.close()\n",
    "conn.close()\n",
    "\n",
    "print(\"Dữ liệu đã được đổ vào SQL Server thành công!\")\n"
   ]
  },
  {
   "cell_type": "code",
   "execution_count": 4,
   "metadata": {
    "ExecuteTime": {
     "end_time": "2024-10-03T13:50:29.927231Z",
     "start_time": "2024-10-03T13:50:29.837289800Z"
    }
   },
   "outputs": [
    {
     "name": "stderr",
     "output_type": "stream",
     "text": [
      "<>:8: SyntaxWarning: invalid escape sequence '\\M'\n",
      "<>:8: SyntaxWarning: invalid escape sequence '\\M'\n",
      "C:\\Users\\ACER USER\\AppData\\Local\\Temp\\ipykernel_8820\\248102300.py:8: SyntaxWarning: invalid escape sequence '\\M'\n",
      "  \"SERVER=LAPTOP-IBQB3FPP\\MSSQLSERVER01;\"\n",
      "C:\\Users\\ACER USER\\AppData\\Local\\Temp\\ipykernel_8820\\248102300.py:25: UserWarning: pandas only supports SQLAlchemy connectable (engine/connection) or database string URI or sqlite3 DBAPI2 connection. Other DBAPI2 objects are not tested. Please consider using SQLAlchemy.\n",
      "  df_matches = pd.read_sql_query(query, conn)\n"
     ]
    }
   ],
   "source": [
    "import pandas as pd\n",
    "import pyodbc\n",
    "\n",
    "# Kết nối đến SQL Server\n",
    "# Kết nối đến SQL Server với Windows Authentication\n",
    "connection_string = (\n",
    "    \"DRIVER={SQL Server};\"\n",
    "    \"SERVER=LAPTOP-IBQB3FPP\\MSSQLSERVER01;\"\n",
    "    \"DATABASE=DataWarehouse1;\"\n",
    "    \"Trusted_Connection=yes;\"  # Sử dụng Windows Authentication\n",
    ")\n",
    "\n",
    "# Tạo kết nối\n",
    "conn = pyodbc.connect(connection_string)\n",
    "\n",
    "# Truy vấn dữ liệu từ bảng Matches\n",
    "query = \"\"\"\n",
    "SELECT *\n",
    "FROM Matches m\n",
    "JOIN Teams t1 ON m.HomeTeamID = t1.TeamID\n",
    "JOIN Teams t2 ON m.AwayTeamID = t2.TeamID\n",
    "\"\"\"\n",
    "\n",
    "# Đọc dữ liệu vào DataFrame\n",
    "df_matches = pd.read_sql_query(query, conn)\n",
    "\n",
    "# Đóng kết nối\n",
    "conn.close()"
   ]
  },
  {
   "cell_type": "code",
   "execution_count": 5,
   "metadata": {
    "ExecuteTime": {
     "end_time": "2024-10-03T13:50:36.365153900Z",
     "start_time": "2024-10-03T13:50:36.295304400Z"
    }
   },
   "outputs": [
    {
     "data": {
      "text/plain": "      HomeTeamID  AwayTeamID       Date  HomeScore  AwayScore  ShotsHome  \\\n0              3           4 2019-08-11        4.0        0.0         11   \n1              5           7 2019-08-11        0.0        0.0         15   \n2             13           8 2019-08-11        0.0        1.0          9   \n3              6          17 2019-08-10        3.0        1.0         31   \n4             18           9 2019-08-10        1.0        1.0         13   \n...          ...         ...        ...        ...        ...        ...   \n1887          14          17 2024-05-11        5.0        0.0         15   \n1888           1           7 2024-05-11        2.0        0.0         36   \n1889          26          22 2024-05-11        2.0        4.0         15   \n1890           2          16 2024-05-11        3.0        1.0         28   \n1891           9           6 2024-05-11        0.0        3.0          6   \n\n      ShotsAway  ShotsOnGoalHome  ShotsOnGoalAway  PassesHome  ...  \\\n0            18                5                7         449  ...   \n1             8                1                2         666  ...   \n2             8                2                2         380  ...   \n3             7                7                4         587  ...   \n4             8                3                3         487  ...   \n...         ...              ...              ...         ...  ...   \n1887          8                9                2         552  ...   \n1888          4               14                3         621  ...   \n1889         16                6                8         304  ...   \n1890          3               12                2         782  ...   \n1891         18                1                9         218  ...   \n\n      YellowCardsAway  PossessionTimeHome  PossessionTimeAway  RedCardsHome  \\\n0                   4                0.46                0.54             0   \n1                   2                0.70                0.30             0   \n2                   3                0.38                0.62             0   \n3                   0                0.69                0.31             0   \n4                   1                0.53                0.47             0   \n...               ...                 ...                 ...           ...   \n1887                4                0.54                0.46             0   \n1888                1                0.67                0.33             0   \n1889                4                0.40                0.60             0   \n1890                1                0.71                0.29             0   \n1891                0                0.24                0.76             0   \n\n      RedCardsAway  Label  TeamID           TeamName  TeamID  \\\n0                0      1       3  Manchester United       4   \n1                0      0       5     Leicester City       7   \n2                0     -1      13   Newcastle United       8   \n3                0      1       6  Tottenham Hotspur      17   \n4                0      0      18    AFC Bournemouth       9   \n...            ...    ...     ...                ...     ...   \n1887             0      1      14     Crystal Palace      17   \n1888             1      1       1          Liverpool       7   \n1889             0     -1      26         Luton Town      22   \n1890             0      1       2    Manchester City      16   \n1891             0     -1       9   Sheffield United       6   \n\n                     TeamName  \n0                     Chelsea  \n1     Wolverhampton Wanderers  \n2                     Arsenal  \n3                 Aston Villa  \n4            Sheffield United  \n...                       ...  \n1887              Aston Villa  \n1888  Wolverhampton Wanderers  \n1889                   Fulham  \n1890          West Ham United  \n1891        Tottenham Hotspur  \n\n[1892 rows x 26 columns]",
      "text/html": "<div>\n<style scoped>\n    .dataframe tbody tr th:only-of-type {\n        vertical-align: middle;\n    }\n\n    .dataframe tbody tr th {\n        vertical-align: top;\n    }\n\n    .dataframe thead th {\n        text-align: right;\n    }\n</style>\n<table border=\"1\" class=\"dataframe\">\n  <thead>\n    <tr style=\"text-align: right;\">\n      <th></th>\n      <th>HomeTeamID</th>\n      <th>AwayTeamID</th>\n      <th>Date</th>\n      <th>HomeScore</th>\n      <th>AwayScore</th>\n      <th>ShotsHome</th>\n      <th>ShotsAway</th>\n      <th>ShotsOnGoalHome</th>\n      <th>ShotsOnGoalAway</th>\n      <th>PassesHome</th>\n      <th>...</th>\n      <th>YellowCardsAway</th>\n      <th>PossessionTimeHome</th>\n      <th>PossessionTimeAway</th>\n      <th>RedCardsHome</th>\n      <th>RedCardsAway</th>\n      <th>Label</th>\n      <th>TeamID</th>\n      <th>TeamName</th>\n      <th>TeamID</th>\n      <th>TeamName</th>\n    </tr>\n  </thead>\n  <tbody>\n    <tr>\n      <th>0</th>\n      <td>3</td>\n      <td>4</td>\n      <td>2019-08-11</td>\n      <td>4.0</td>\n      <td>0.0</td>\n      <td>11</td>\n      <td>18</td>\n      <td>5</td>\n      <td>7</td>\n      <td>449</td>\n      <td>...</td>\n      <td>4</td>\n      <td>0.46</td>\n      <td>0.54</td>\n      <td>0</td>\n      <td>0</td>\n      <td>1</td>\n      <td>3</td>\n      <td>Manchester United</td>\n      <td>4</td>\n      <td>Chelsea</td>\n    </tr>\n    <tr>\n      <th>1</th>\n      <td>5</td>\n      <td>7</td>\n      <td>2019-08-11</td>\n      <td>0.0</td>\n      <td>0.0</td>\n      <td>15</td>\n      <td>8</td>\n      <td>1</td>\n      <td>2</td>\n      <td>666</td>\n      <td>...</td>\n      <td>2</td>\n      <td>0.70</td>\n      <td>0.30</td>\n      <td>0</td>\n      <td>0</td>\n      <td>0</td>\n      <td>5</td>\n      <td>Leicester City</td>\n      <td>7</td>\n      <td>Wolverhampton Wanderers</td>\n    </tr>\n    <tr>\n      <th>2</th>\n      <td>13</td>\n      <td>8</td>\n      <td>2019-08-11</td>\n      <td>0.0</td>\n      <td>1.0</td>\n      <td>9</td>\n      <td>8</td>\n      <td>2</td>\n      <td>2</td>\n      <td>380</td>\n      <td>...</td>\n      <td>3</td>\n      <td>0.38</td>\n      <td>0.62</td>\n      <td>0</td>\n      <td>0</td>\n      <td>-1</td>\n      <td>13</td>\n      <td>Newcastle United</td>\n      <td>8</td>\n      <td>Arsenal</td>\n    </tr>\n    <tr>\n      <th>3</th>\n      <td>6</td>\n      <td>17</td>\n      <td>2019-08-10</td>\n      <td>3.0</td>\n      <td>1.0</td>\n      <td>31</td>\n      <td>7</td>\n      <td>7</td>\n      <td>4</td>\n      <td>587</td>\n      <td>...</td>\n      <td>0</td>\n      <td>0.69</td>\n      <td>0.31</td>\n      <td>0</td>\n      <td>0</td>\n      <td>1</td>\n      <td>6</td>\n      <td>Tottenham Hotspur</td>\n      <td>17</td>\n      <td>Aston Villa</td>\n    </tr>\n    <tr>\n      <th>4</th>\n      <td>18</td>\n      <td>9</td>\n      <td>2019-08-10</td>\n      <td>1.0</td>\n      <td>1.0</td>\n      <td>13</td>\n      <td>8</td>\n      <td>3</td>\n      <td>3</td>\n      <td>487</td>\n      <td>...</td>\n      <td>1</td>\n      <td>0.53</td>\n      <td>0.47</td>\n      <td>0</td>\n      <td>0</td>\n      <td>0</td>\n      <td>18</td>\n      <td>AFC Bournemouth</td>\n      <td>9</td>\n      <td>Sheffield United</td>\n    </tr>\n    <tr>\n      <th>...</th>\n      <td>...</td>\n      <td>...</td>\n      <td>...</td>\n      <td>...</td>\n      <td>...</td>\n      <td>...</td>\n      <td>...</td>\n      <td>...</td>\n      <td>...</td>\n      <td>...</td>\n      <td>...</td>\n      <td>...</td>\n      <td>...</td>\n      <td>...</td>\n      <td>...</td>\n      <td>...</td>\n      <td>...</td>\n      <td>...</td>\n      <td>...</td>\n      <td>...</td>\n      <td>...</td>\n    </tr>\n    <tr>\n      <th>1887</th>\n      <td>14</td>\n      <td>17</td>\n      <td>2024-05-11</td>\n      <td>5.0</td>\n      <td>0.0</td>\n      <td>15</td>\n      <td>8</td>\n      <td>9</td>\n      <td>2</td>\n      <td>552</td>\n      <td>...</td>\n      <td>4</td>\n      <td>0.54</td>\n      <td>0.46</td>\n      <td>0</td>\n      <td>0</td>\n      <td>1</td>\n      <td>14</td>\n      <td>Crystal Palace</td>\n      <td>17</td>\n      <td>Aston Villa</td>\n    </tr>\n    <tr>\n      <th>1888</th>\n      <td>1</td>\n      <td>7</td>\n      <td>2024-05-11</td>\n      <td>2.0</td>\n      <td>0.0</td>\n      <td>36</td>\n      <td>4</td>\n      <td>14</td>\n      <td>3</td>\n      <td>621</td>\n      <td>...</td>\n      <td>1</td>\n      <td>0.67</td>\n      <td>0.33</td>\n      <td>0</td>\n      <td>1</td>\n      <td>1</td>\n      <td>1</td>\n      <td>Liverpool</td>\n      <td>7</td>\n      <td>Wolverhampton Wanderers</td>\n    </tr>\n    <tr>\n      <th>1889</th>\n      <td>26</td>\n      <td>22</td>\n      <td>2024-05-11</td>\n      <td>2.0</td>\n      <td>4.0</td>\n      <td>15</td>\n      <td>16</td>\n      <td>6</td>\n      <td>8</td>\n      <td>304</td>\n      <td>...</td>\n      <td>4</td>\n      <td>0.40</td>\n      <td>0.60</td>\n      <td>0</td>\n      <td>0</td>\n      <td>-1</td>\n      <td>26</td>\n      <td>Luton Town</td>\n      <td>22</td>\n      <td>Fulham</td>\n    </tr>\n    <tr>\n      <th>1890</th>\n      <td>2</td>\n      <td>16</td>\n      <td>2024-05-11</td>\n      <td>3.0</td>\n      <td>1.0</td>\n      <td>28</td>\n      <td>3</td>\n      <td>12</td>\n      <td>2</td>\n      <td>782</td>\n      <td>...</td>\n      <td>1</td>\n      <td>0.71</td>\n      <td>0.29</td>\n      <td>0</td>\n      <td>0</td>\n      <td>1</td>\n      <td>2</td>\n      <td>Manchester City</td>\n      <td>16</td>\n      <td>West Ham United</td>\n    </tr>\n    <tr>\n      <th>1891</th>\n      <td>9</td>\n      <td>6</td>\n      <td>2024-05-11</td>\n      <td>0.0</td>\n      <td>3.0</td>\n      <td>6</td>\n      <td>18</td>\n      <td>1</td>\n      <td>9</td>\n      <td>218</td>\n      <td>...</td>\n      <td>0</td>\n      <td>0.24</td>\n      <td>0.76</td>\n      <td>0</td>\n      <td>0</td>\n      <td>-1</td>\n      <td>9</td>\n      <td>Sheffield United</td>\n      <td>6</td>\n      <td>Tottenham Hotspur</td>\n    </tr>\n  </tbody>\n</table>\n<p>1892 rows × 26 columns</p>\n</div>"
     },
     "execution_count": 5,
     "metadata": {},
     "output_type": "execute_result"
    }
   ],
   "source": [
    "df_matches"
   ]
  },
  {
   "cell_type": "code",
   "execution_count": null,
   "outputs": [],
   "source": [],
   "metadata": {
    "collapsed": false
   }
  }
 ],
 "metadata": {
  "kernelspec": {
   "display_name": "Python 3",
   "language": "python",
   "name": "python3"
  },
  "language_info": {
   "codemirror_mode": {
    "name": "ipython",
    "version": 3
   },
   "file_extension": ".py",
   "mimetype": "text/x-python",
   "name": "python",
   "nbconvert_exporter": "python",
   "pygments_lexer": "ipython3",
   "version": "3.12.2"
  }
 },
 "nbformat": 4,
 "nbformat_minor": 2
}
